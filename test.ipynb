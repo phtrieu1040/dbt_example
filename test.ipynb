{
 "cells": [
  {
   "cell_type": "code",
   "execution_count": 2,
   "metadata": {},
   "outputs": [
    {
     "name": "stdout",
     "output_type": "stream",
     "text": [
      "Return None\n",
      "Return None\n",
      "Return None\n",
      "Return None\n",
      "Return None\n",
      "Return None\n",
      "Return None\n",
      "Return None\n",
      "Return None\n",
      "Return None\n",
      "Return None\n",
      "Return None\n",
      "Return None\n",
      "Return None\n",
      "Return None\n",
      "Return None\n",
      "Return None\n",
      "Return None\n",
      "Return None\n",
      "Return None\n",
      "Return None\n",
      "Return None\n",
      "Return None\n",
      "Return None\n",
      "Return None\n",
      "Return None\n",
      "Return None\n",
      "Return None\n",
      "Return None\n",
      "Return None\n",
      "Return None\n",
      "Return None\n",
      "Return None\n",
      "Return None\n",
      "Return None\n",
      "Return None\n",
      "Return None\n",
      "Return None\n",
      "Return None\n",
      "Return None\n",
      "Return None\n",
      "Return None\n",
      "Return None\n",
      "Return None\n",
      "Return None\n",
      "Return None\n",
      "Return None\n",
      "Return None\n",
      "Return None\n",
      "Return None\n",
      "Return None\n",
      "Return None\n",
      "Return None\n",
      "Return None\n",
      "Return None\n",
      "Return None\n",
      "Return None\n",
      "Return None\n",
      "Return None\n",
      "Return None\n",
      "Return None\n",
      "Return None\n",
      "Return None\n",
      "Return None\n",
      "Return None\n",
      "Return None\n",
      "Return None\n",
      "Return None\n",
      "Return None\n",
      "Return None\n",
      "Return None\n",
      "Return None\n",
      "Return None\n",
      "Return None\n",
      "Return None\n",
      "Return None\n",
      "Return None\n",
      "Return None\n",
      "Return None\n",
      "[b'10143', b'10144', b'10145', b'10146', b'10147', b'10148', b'10149', b'10150', b'10151', b'10152', b'10153', b'10154', b'10155', b'10156', b'10157', b'10158', b'10159', b'10160', b'10161', b'10162', b'10163', b'10164', b'10165', b'10166', b'10167', b'10168', b'10169', b'10170', b'10171', b'10172', b'10173', b'10174', b'10175', b'10176', b'10177', b'10178', b'10179', b'10180', b'10181', b'10182', b'10183', b'10184', b'10185', b'10186', b'10187', b'10188', b'10189', b'10190', b'10191', b'10192', b'10193', b'10194', b'10195', b'10196', b'10197', b'10198', b'10199', b'10200', b'10201', b'10202', b'10203', b'10204', b'10205', b'10206', b'10207', b'10208', b'10209', b'10210', b'10211', b'10212', b'10213', b'10214', b'10215', b'10216', b'10217', b'10218', b'10219', b'10220', b'10221', b'10222', b'10223', b'10224', b'10225', b'10226', b'10227', b'10228', b'10229', b'10230', b'10231', b'10232', b'10233', b'10234', b'10235', b'10236', b'10237', b'10238', b'10239', b'10240', b'10241', b'10242']\n"
     ]
    },
    {
     "data": {
      "text/plain": [
       "[\"b'10221'\",\n",
       " ['Nap the dien thoai thanh cong'],\n",
       " 'info@myvib.vib.com.vn',\n",
       " 'Fri, 16 Feb 2024 02:27:34 +0000',\n",
       " 98000]"
      ]
     },
     "execution_count": 2,
     "metadata": {},
     "output_type": "execute_result"
    }
   ],
   "source": [
    "from _library import MyProject\n",
    "MyProject.MainProject()._get_bank_notification(r'C:\\Python\\log','info@myvib.vib.com.vn', 'alerts@citibank.com.vn')\n",
    "# a = MyProject.MainProject()._get_bank_email(b'10221','info@myvib.vib.com.vn')"
   ]
  },
  {
   "cell_type": "code",
   "execution_count": 4,
   "metadata": {},
   "outputs": [
    {
     "name": "stdout",
     "output_type": "stream",
     "text": [
      "None\n"
     ]
    }
   ],
   "source": [
    "import re\n",
    "\n",
    "def extract_number(input_string):\n",
    "    match = re.search(r'\\nSo tien\\s*\\|\\s*([\\d,]+)', input_string)\n",
    "    if match:\n",
    "        return match.group(1)\n",
    "    else:\n",
    "        return None\n",
    "\n",
    "input_string = \"\\nSo tien thanh toan  |  700,000\"\n",
    "number_part = extract_number(input_string)\n",
    "print(number_part)\n"
   ]
  },
  {
   "cell_type": "code",
   "execution_count": 2,
   "metadata": {},
   "outputs": [],
   "source": [
    "from _library import MyProject\n",
    "email1 = MyProject.MainProject().mail.fetch_email_by_id(b'10221')\n",
    "# email2 = MyProject.MainProject().mail.fetch_email_by_id(b'10232')"
   ]
  },
  {
   "cell_type": "code",
   "execution_count": 2,
   "metadata": {},
   "outputs": [
    {
     "name": "stdout",
     "output_type": "stream",
     "text": [
      "body\n",
      "body\n"
     ]
    }
   ],
   "source": [
    "a = ['alerts@citibank.com.vn','info@myvib.vib.com.vn']\n",
    "from _library import GoogleMail\n",
    "mail = (\n",
    "    GoogleMail(\n",
    "        email_address='phtrieu1040@gmail.com',\n",
    "        password='kxwi hwjj tbdu qgtg'\n",
    "    )\n",
    "    )\n",
    "for a in a:\n",
    "    mail._extract_bank_body(a, 'body')"
   ]
  },
  {
   "cell_type": "code",
   "execution_count": 3,
   "metadata": {},
   "outputs": [
    {
     "data": {
      "text/plain": [
       "'|  | ![VIB logo](https://www.vib.com.vn/static/theme/images/logo-n-text.png)  \\n---  \\nNap the dien thoai thanh cong  \\nKinh gui **PHAM HAI TRIEU**  \\nGiao dich nap the dien thoai cua ban da duoc thuc hien thanh cong voi chi tiet\\nnhu sau:  \\n|  So hoa don  |  2402161010994160  \\n---|---  \\nTrang thai giao dich  |  Thanh cong  \\nNgay giao dich  |  09:27 16/02/2024  \\nTu tai khoan/the tin dung  |  032750216  \\nDen so dien thoai  |  0774616966 - So dien thoai cua toi  \\nMenh gia  |  100,000  \\nSo tien thanh toan  |  98,000  \\nPhi giao dich (bao gom VAT)  |  0  \\nDien giai  | Nap the dien thoai 0774616966 - So dien thoai cua toi  \\n  \\nCam on quy khach da su dung dich vu Ngan hang dien tu VIB. Xin vui long khong\\nhoi am lai email nay.  \\n|\\n\\n|  |  Hotline: **1800 8180**  \\n---  \\n  \\n| Email: [dvkh247@vib.com.vn](mailto:dvkh247@vib.com.vn)  \\n---  \\n  \\n|  ![](https://www.vib.com.vn/static/theme/images/icon-myvib-2.0.png) |  Ngan\\nhang di dong MyVIB  |  ![](https://www.vib.com.vn/static/theme/images/qr.png)  \\n---|---|---  \\n  \\n  \\n© Ban quyen 2024 thuoc ve Ngan Hang Quoc Te (VIB)  \\nHoi so: Toa nha Sailing Tower, 111A duong Pasteur, Phuong Ben Nghe, Quan 1,\\nThanh pho Ho Chi Minh\\n\\n'"
      ]
     },
     "execution_count": 3,
     "metadata": {},
     "output_type": "execute_result"
    }
   ],
   "source": [
    "import html2text\n",
    "import re\n",
    "def _extract_citibank_body(body):\n",
    "    email_body = html2text.html2text(body)\n",
    "    match = re.search(r'VND[\\d,]+', email_body)\n",
    "    if match:\n",
    "        return match.group()\n",
    "    else:\n",
    "        return None\n",
    "b = html2text.html2text(email1[-1])\n",
    "b"
   ]
  },
  {
   "cell_type": "code",
   "execution_count": 3,
   "metadata": {},
   "outputs": [
    {
     "data": {
      "text/plain": [
       "'\\nSo tien  |  700,000'"
      ]
     },
     "execution_count": 3,
     "metadata": {},
     "output_type": "execute_result"
    }
   ],
   "source": [
    "import re\n",
    "\n",
    "def extract_vnd_string(input_string):\n",
    "    match = re.search(r'\\nSo tien\\s*\\|\\s*[\\d,]+', input_string)\n",
    "    if match:\n",
    "        return match.group()\n",
    "    else:\n",
    "        return None\n",
    "    \n",
    "extract_vnd_string(b)"
   ]
  },
  {
   "cell_type": "code",
   "execution_count": 41,
   "metadata": {},
   "outputs": [
    {
     "name": "stdout",
     "output_type": "stream",
     "text": [
      "1\n"
     ]
    }
   ],
   "source": [
    "def a():\n",
    "    print(1)\n",
    "def b():\n",
    "    print(2)\n",
    "\n",
    "test_dict = {'test1':a, 'test2':b}\n",
    "test_dict['test1']()"
   ]
  },
  {
   "cell_type": "code",
   "execution_count": 5,
   "metadata": {},
   "outputs": [
    {
     "data": {
      "text/plain": [
       "'|  | ![VIB logo](https://www.vib.com.vn/static/theme/images/logo-n-text.png)  \\n---  \\nNạp thẻ điện thoại thành công  \\nKính gửi **PHẠM HẢI TRIỀU**  \\nGiao dịch nạp thẻ điện thoại của bạn đã được thực hiện thành công với chi tiết\\nnhư sau:  \\n|  Số hoá đơn  |  2402161010994160  \\n---|---  \\nTrạng thái giao dịch  |  Thành công  \\nNgày giao dịch  |  09:27 16/02/2024  \\nTừ tài khoản/thẻ tín dụng  |  032750216  \\nĐến số điện thoại  |  0774616966 - Số điện thoại của tôi  \\nMệnh giá  |  100,000 ₫  \\nSố tiền thanh toán  |  98,000 ₫  \\nPhí giao dịch (bao gồm VAT)  |  0 ₫  \\nDiễn giải  | Nap the dien thoai 0774616966 - So dien thoai cua toi  \\n  \\nCảm ơn quý khách đã sử dụng dịch vụ Ngân hàng điện tử VIB. Xin vui lòng không\\nhồi âm lại email này.  \\n|\\n\\n|  |  Hotline: **1800 8180**  \\n---  \\n  \\n| Email: [dvkh247@vib.com.vn](mailto:dvkh247@vib.com.vn)  \\n---  \\n  \\n|  ![](https://www.vib.com.vn/static/theme/images/icon-myvib-2.0.png) |  Ngân\\nhàng di động MyVIB  |  ![](https://www.vib.com.vn/static/theme/images/qr.png)  \\n---|---|---  \\n  \\n  \\n© Bản quyền 2024 thuộc về Ngân Hàng Quốc Tế (VIB)  \\nHội sở: Tòa nhà Sailing Tower, 111A đường Pasteur, Phường Bến Nghé, Quận 1,\\nThành phố Hồ Chí Minh\\n\\n'"
      ]
     },
     "execution_count": 5,
     "metadata": {},
     "output_type": "execute_result"
    }
   ],
   "source": [
    "import html2text\n",
    "a = html2text.html2text(email1[-1])\n",
    "a\n",
    "# for i in a.split('\\n'):\n",
    "#     print(i.split('|'))"
   ]
  },
  {
   "cell_type": "code",
   "execution_count": 3,
   "metadata": {},
   "outputs": [
    {
     "data": {
      "text/plain": [
       "'info@myvib.vib.com.vn'"
      ]
     },
     "execution_count": 3,
     "metadata": {},
     "output_type": "execute_result"
    }
   ],
   "source": [
    "a"
   ]
  },
  {
   "cell_type": "code",
   "execution_count": 34,
   "metadata": {},
   "outputs": [
    {
     "name": "stdout",
     "output_type": "stream",
     "text": [
      "Dear Valued Customer, Your Credit Card ending with 0183 has had a transaction\n",
      "of VND437,800 made on 2024-02-18. For more details, please log on to\n",
      "www.citibank.com.vn or call CitiPhone at (84 28) 3521 1111. Regards, Citibank\n",
      "N.A. Vietnam With effect from March 01st 2023, Citibank, N.A., - Hanoi Branch\n",
      "and Ho Chi Minh City Branch has transferred ownership of its consumer banking\n",
      "business to United Overseas Bank (Vietnam) Limited (Registered number\n",
      "0314922220) (\"UOB Vietnam\"). UOB Vietnam is the issuer of \"Citi\" branded\n",
      "consumer banking products in Vietnam and Citibank, N.A., - Hanoi Branch and Ho\n",
      "Chi Minh City Branch is providing certain transitional support in respect of\n",
      "those products. The trademarks Citi, Citibank, Citigroup, the Arc design and\n",
      "all similar trademarks and derivations thereof are used temporarily under\n",
      "license by UOB Vietnam from Citigroup Inc. and related group entities. Credit\n",
      "Card Transaction  \n",
      "---  \n",
      "|  |  |  |  |  | With effect from March 01st 2023, Citibank, N.A., - Hanoi\n",
      "Branch and Ho Chi Minh City Branch has transferred ownership of its consumer\n",
      "banking business to United Overseas Bank (Vietnam) Limited (Registered number\n",
      "0314922220) (\"UOB Vietnam\").  \n",
      "  \n",
      "UOB Vietnam is the issuer of \"Citi\" branded consumer banking products in\n",
      "Vietnam and Citibank, N.A., - Hanoi Branch and Ho Chi Minh City Branch is\n",
      "providing certain transitional support in respect of those products.  \n",
      "  \n",
      "The trademarks Citi, Citibank, Citigroup, the Arc design and all similar\n",
      "trademarks and derivations thereof are used temporarily under license by UOB\n",
      "Vietnam from Citigroup Inc. and related group entities.  \n",
      "---  \n",
      "![](https://www.citibank.com.vn/edm/ALTCCCTXN/images/en/top-dark-blue.png)  \n",
      "| ![](https://www.citibank.com.vn/edm/ALTCCCTXN/images/en/spacer.png) |  |\n",
      "![](https://www.citibank.com.vn/edm/ALTCCCTXN/images/en/spacer.png)  \n",
      "---  \n",
      "![Citi](https://www.citibank.com.vn/edm/ALTCCCTXN/images/en/citi.png)  \n",
      "![](https://www.citibank.com.vn/edm/ALTCCCTXN/images/en/spacer.png)  \n",
      "![](https://www.citibank.com.vn/edm/ALTCCCTXN/images/en/spacer.png)  \n",
      "![](https://www.citibank.com.vn/edm/ALTCCCTXN/images/en/kv1.jpg)  \n",
      "| ![](https://www.citibank.com.vn/edm/ALTCCCTXN/images/en/kv2.jpg) |  |\n",
      "![](https://www.citibank.com.vn/edm/ALTCCCTXN/images/en/spacer.png)  \n",
      "---  \n",
      "![](https://www.citibank.com.vn/edm/ALTCCCTXN/images/en/spacer.png)  \n",
      "Card Transaction /  \n",
      "Authorization Alert  \n",
      "![](https://www.citibank.com.vn/edm/ALTCCCTXN/images/en/spacer.png)  \n",
      "Please note the below transaction on your Credit Card ending with 0183  \n",
      "![](https://www.citibank.com.vn/edm/ALTCCCTXN/images/en/spacer.png)  \n",
      "![](https://www.citibank.com.vn/views/images/services/citialert/spacer.gif)  \n",
      "![](https://www.citibank.com.vn/edm/ALTCCCTXN/images/en/kv3.jpg)  \n",
      "| ![](https://www.citibank.com.vn/edm/ALTCCCTXN/images/en/spacer.png) |  |\n",
      "![](https://www.citibank.com.vn/edm/ALTCCCTXN/images/en/spacer.png)  \n",
      "---  \n",
      "|  |  |  |  | **Transaction Amount:**  \n",
      "---  \n",
      "|  |  VND 437,800  \n",
      "---  \n",
      "| ![](https://www.citibank.com.vn/views/images/services/citialert/spacer.gif)  \n",
      "---  \n",
      "![](https://www.citibank.com.vn/views/images/services/citialert/spacer.gif)  \n",
      "**Transaction Date:** | 2024-02-18  \n",
      "![](https://www.citibank.com.vn/views/images/services/citialert/spacer.gif)  \n",
      "![](https://www.citibank.com.vn/views/images/services/citialert/spacer.gif)  \n",
      "![](https://www.citibank.com.vn/edm/ALTCCCTXN/images/en/spacer.png)  \n",
      "![](https://www.citibank.com.vn/edm/ALTCCCTXN/images/en/spacer.png)  \n",
      "![](https://www.citibank.com.vn/edm/ALTCCCTXN/images/en/spacer.png)  \n",
      "| ![](https://www.citibank.com.vn/edm/ALTCCCTXN/images/en/spacer.png) |  |\n",
      "View your balances  \n",
      "via the Citi Mobile® App  \n",
      "---  \n",
      "![](https://www.citibank.com.vn/edm/ALTCCCTXN/images/en/spacer.png)  \n",
      "[![View\n",
      "Now](https://www.citibank.com.vn/edm/ALTCCCTXN/images/en/cta.png)](https://www.citibank.com.vn/MOB)  \n",
      "![](https://www.citibank.com.vn/edm/ALTCCCTXN/images/en/spacer.png)  \n",
      "|\n",
      "[![](https://www.citibank.com.vn/edm/ALTCCCTXN/images/en/transaction_alert.gif)](https://mobile.citibank.com.vn/GMP/JSO/presignon/deeplink.action?page=CARDSDASHBOARD)  \n",
      "---  \n",
      "![](https://www.citibank.com.vn/edm/ALTCCCTXN/images/en/spacer.png)  \n",
      "| ![](https://www.citibank.com.vn/edm/ALTCCCTXN/images/en/spacer.png) |  |  |\n",
      "![](https://www.citibank.com.vn/edm/ALTCCCTXN/images/en/spacer.png) |  |\n",
      "![](https://www.citibank.com.vn/edm/ALTCCCTXN/images/en/spacer.png)  \n",
      "---  \n",
      "| Managing your Citi Credit Cards now made easier with the Citi Mobile® App  \n",
      "---  \n",
      "![](https://www.citibank.com.vn/edm/ALTCCCTXN/images/en/spacer.png) |\n",
      "[![LEARN\n",
      "MORE](https://www.citibank.com.vn/edm/ALTCCCTXN/images/en/cta01.png)](https://www.citibank.com.vn/en/citimobileapp)  \n",
      "![](https://www.citibank.com.vn/edm/ALTCCCTXN/images/en/spacer.png)  \n",
      "![](https://www.citibank.com.vn/edm/ALTCCCTXN/images/en/spacer.png)  \n",
      "![](https://www.citibank.com.vn/edm/ALTCCCTXN/images/en/spacer.png)  \n",
      "![](https://www.citibank.com.vn/edm/ALTCCCTXN/images/en/spacer.png)  \n",
      "| ![](https://www.citibank.com.vn/edm/ALTCCCTXN/images/en/spacer.png) |  |\n",
      "_Don't have a Citi Mobile ® App yet? [Download\n",
      "now](https://www.citibank.com.vn/MOB/ \"Download now\")_  \n",
      "---  \n",
      "![](https://www.citibank.com.vn/edm/ALTCCCTXN/images/en/spacer.png)  \n",
      "![](https://www.citibank.com.vn/edm/ALTCCCTXN/images/en/spacer.png)  \n",
      "![](https://www.citibank.com.vn/edm/ALTCCCTXN/images/en/footer-citi.png)\n",
      "![](https://www.citibank.com.vn/edm/ALTCCCTXN/images/en/footer-citi-mob.png)  \n",
      "|  ![](https://www.citibank.com.vn/edm/images/Footer_PII_EN.png)  \n",
      "---  \n",
      "|  |\n",
      "[**Privacy**](https://www.citibank.com.vn/english/footer/privacy.htm?ecid=EMOWNVNGXUEN4V)\n",
      "|\n",
      "[**Security**](https://www.citibank.com.vn/english/footer/security.htm?ecid=EMOWNVNGXUEN4V01)\n",
      "| [**Terms &\n",
      "Conditions**](https://www.citibank.com.vn/english/footer/terms_conditions.htm?ecid=EMOWNVNGXUEN4V02)  \n",
      "---|---|---  \n",
      "|  | **To Contact Us**  \n",
      "---  \n",
      "Please follow this\n",
      "[link](https://www.citibank.com.vn/english/footer/contact_us.htm?ecid=EMOWNVNGXUEN4V03)\n",
      "to see full contact details and Citibank branch address.  \n",
      "**To Unsubscribe**  \n",
      "As a Citi customer, you have the opportunity to make choices.  \n",
      "To stop receiving electronic mailers, please log into Citibank Online and\n",
      "submit an un- subscription enquiry.  \n",
      "We encourage you to keep updated our latest update on product and services via\n",
      "electronic mailer.  \n",
      "®2021 Citi.com is the global source of information about and access to\n",
      "financial services provided by the Citigroup family of companies.\n",
      "\n",
      "\n"
     ]
    }
   ],
   "source": [
    "b = html2text.html2text(email2[-1])\n",
    "for i in b.split('\\n'):\n",
    "    print(i)"
   ]
  },
  {
   "cell_type": "code",
   "execution_count": 7,
   "metadata": {},
   "outputs": [
    {
     "data": {
      "text/html": [
       "<div>\n",
       "<style scoped>\n",
       "    .dataframe tbody tr th:only-of-type {\n",
       "        vertical-align: middle;\n",
       "    }\n",
       "\n",
       "    .dataframe tbody tr th {\n",
       "        vertical-align: top;\n",
       "    }\n",
       "\n",
       "    .dataframe thead th {\n",
       "        text-align: right;\n",
       "    }\n",
       "</style>\n",
       "<table border=\"1\" class=\"dataframe\">\n",
       "  <thead>\n",
       "    <tr style=\"text-align: right;\">\n",
       "      <th></th>\n",
       "      <th>row_number</th>\n",
       "      <th>key_column</th>\n",
       "      <th>subject</th>\n",
       "      <th>sender</th>\n",
       "      <th>send_at</th>\n",
       "      <th>body</th>\n",
       "      <th>write_time</th>\n",
       "    </tr>\n",
       "  </thead>\n",
       "  <tbody>\n",
       "    <tr>\n",
       "      <th>0</th>\n",
       "      <td>1</td>\n",
       "      <td>b'10232'</td>\n",
       "      <td>Citibank VN - Credit card transaction notifica...</td>\n",
       "      <td>alerts@citibank.com.vn</td>\n",
       "      <td>Sun, 18 Feb 2024 13:23:50 +0800</td>\n",
       "      <td>Dear Valued Customer,  Your Credit Card ending...</td>\n",
       "      <td>2024-02-19T11:49:27</td>\n",
       "    </tr>\n",
       "    <tr>\n",
       "      <th>1</th>\n",
       "      <td>2</td>\n",
       "      <td>b'10233'</td>\n",
       "      <td>Citibank VN - Credit card transaction notifica...</td>\n",
       "      <td>alerts@citibank.com.vn</td>\n",
       "      <td>Sun, 18 Feb 2024 16:21:24 +0800</td>\n",
       "      <td>Dear Valued Customer,  Your Credit Card ending...</td>\n",
       "      <td>2024-02-19T11:49:38</td>\n",
       "    </tr>\n",
       "  </tbody>\n",
       "</table>\n",
       "</div>"
      ],
      "text/plain": [
       "   row_number key_column                                            subject  \\\n",
       "0           1   b'10232'  Citibank VN - Credit card transaction notifica...   \n",
       "1           2   b'10233'  Citibank VN - Credit card transaction notifica...   \n",
       "\n",
       "                   sender                          send_at  \\\n",
       "0  alerts@citibank.com.vn  Sun, 18 Feb 2024 13:23:50 +0800   \n",
       "1  alerts@citibank.com.vn  Sun, 18 Feb 2024 16:21:24 +0800   \n",
       "\n",
       "                                                body           write_time  \n",
       "0  Dear Valued Customer,  Your Credit Card ending...  2024-02-19T11:49:27  \n",
       "1  Dear Valued Customer,  Your Credit Card ending...  2024-02-19T11:49:38  "
      ]
     },
     "execution_count": 7,
     "metadata": {},
     "output_type": "execute_result"
    }
   ],
   "source": [
    "import pandas as pd\n",
    "df = pd.read_csv(r'C:\\Python\\log\\log.csv', header=0)\n",
    "df"
   ]
  }
 ],
 "metadata": {
  "kernelspec": {
   "display_name": "base",
   "language": "python",
   "name": "python3"
  },
  "language_info": {
   "codemirror_mode": {
    "name": "ipython",
    "version": 3
   },
   "file_extension": ".py",
   "mimetype": "text/x-python",
   "name": "python",
   "nbconvert_exporter": "python",
   "pygments_lexer": "ipython3",
   "version": "3.11.4"
  }
 },
 "nbformat": 4,
 "nbformat_minor": 2
}
