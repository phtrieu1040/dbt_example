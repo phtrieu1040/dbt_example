{
 "cells": [
  {
   "cell_type": "code",
   "execution_count": 5,
   "metadata": {},
   "outputs": [
    {
     "name": "stdout",
     "output_type": "stream",
     "text": [
      "noreply@redditmail.com <class 'str'>\n",
      "noreply@redditmail.com\n",
      "('alerts@citibank.com.vn',)\n",
      "False\n",
      "Return None\n",
      "alerts@citibank.com.vn <class 'str'>\n",
      "alerts@citibank.com.vn\n",
      "('alerts@citibank.com.vn',)\n",
      "True\n",
      "alerts@citibank.com.vn <class 'str'>\n",
      "alerts@citibank.com.vn\n",
      "('alerts@citibank.com.vn',)\n",
      "True\n",
      "jobalerts@vietnamworks.com <class 'str'>\n",
      "jobalerts@vietnamworks.com\n",
      "('alerts@citibank.com.vn',)\n",
      "False\n",
      "Return None\n",
      "noreply@redditmail.com <class 'str'>\n",
      "noreply@redditmail.com\n",
      "('alerts@citibank.com.vn',)\n",
      "False\n",
      "Return None\n",
      "noreply@tiki.vn <class 'str'>\n",
      "noreply@tiki.vn\n",
      "('alerts@citibank.com.vn',)\n",
      "False\n",
      "Return None\n",
      "noreply@tiki.vn <class 'str'>\n",
      "noreply@tiki.vn\n",
      "('alerts@citibank.com.vn',)\n",
      "False\n",
      "Return None\n",
      "noreply@tiki.vn <class 'str'>\n",
      "noreply@tiki.vn\n",
      "('alerts@citibank.com.vn',)\n",
      "False\n",
      "Return None\n",
      "noreply@tiki.vn <class 'str'>\n",
      "noreply@tiki.vn\n",
      "('alerts@citibank.com.vn',)\n",
      "False\n",
      "Return None\n",
      "newsletter@vieclam24h.vn <class 'str'>\n",
      "newsletter@vieclam24h.vn\n",
      "('alerts@citibank.com.vn',)\n",
      "False\n",
      "Return None\n",
      "[b'10231', b'10232', b'10233', b'10234', b'10235', b'10236', b'10237', b'10238', b'10239', b'10240']\n"
     ]
    }
   ],
   "source": [
    "from _library import MyProject\n",
    "MyProject.MainProject()._get_bank_notification(r'C:\\Python\\log','alerts@citibank.com.vn')"
   ]
  },
  {
   "cell_type": "code",
   "execution_count": 7,
   "metadata": {},
   "outputs": [
    {
     "data": {
      "text/html": [
       "<div>\n",
       "<style scoped>\n",
       "    .dataframe tbody tr th:only-of-type {\n",
       "        vertical-align: middle;\n",
       "    }\n",
       "\n",
       "    .dataframe tbody tr th {\n",
       "        vertical-align: top;\n",
       "    }\n",
       "\n",
       "    .dataframe thead th {\n",
       "        text-align: right;\n",
       "    }\n",
       "</style>\n",
       "<table border=\"1\" class=\"dataframe\">\n",
       "  <thead>\n",
       "    <tr style=\"text-align: right;\">\n",
       "      <th></th>\n",
       "      <th>row_number</th>\n",
       "      <th>key_column</th>\n",
       "      <th>subject</th>\n",
       "      <th>sender</th>\n",
       "      <th>send_at</th>\n",
       "      <th>body</th>\n",
       "      <th>write_time</th>\n",
       "    </tr>\n",
       "  </thead>\n",
       "  <tbody>\n",
       "    <tr>\n",
       "      <th>0</th>\n",
       "      <td>1</td>\n",
       "      <td>b'10232'</td>\n",
       "      <td>Citibank VN - Credit card transaction notifica...</td>\n",
       "      <td>alerts@citibank.com.vn</td>\n",
       "      <td>Sun, 18 Feb 2024 13:23:50 +0800</td>\n",
       "      <td>Dear Valued Customer,  Your Credit Card ending...</td>\n",
       "      <td>2024-02-19T11:49:27</td>\n",
       "    </tr>\n",
       "    <tr>\n",
       "      <th>1</th>\n",
       "      <td>2</td>\n",
       "      <td>b'10233'</td>\n",
       "      <td>Citibank VN - Credit card transaction notifica...</td>\n",
       "      <td>alerts@citibank.com.vn</td>\n",
       "      <td>Sun, 18 Feb 2024 16:21:24 +0800</td>\n",
       "      <td>Dear Valued Customer,  Your Credit Card ending...</td>\n",
       "      <td>2024-02-19T11:49:38</td>\n",
       "    </tr>\n",
       "  </tbody>\n",
       "</table>\n",
       "</div>"
      ],
      "text/plain": [
       "   row_number key_column                                            subject  \\\n",
       "0           1   b'10232'  Citibank VN - Credit card transaction notifica...   \n",
       "1           2   b'10233'  Citibank VN - Credit card transaction notifica...   \n",
       "\n",
       "                   sender                          send_at  \\\n",
       "0  alerts@citibank.com.vn  Sun, 18 Feb 2024 13:23:50 +0800   \n",
       "1  alerts@citibank.com.vn  Sun, 18 Feb 2024 16:21:24 +0800   \n",
       "\n",
       "                                                body           write_time  \n",
       "0  Dear Valued Customer,  Your Credit Card ending...  2024-02-19T11:49:27  \n",
       "1  Dear Valued Customer,  Your Credit Card ending...  2024-02-19T11:49:38  "
      ]
     },
     "execution_count": 7,
     "metadata": {},
     "output_type": "execute_result"
    }
   ],
   "source": [
    "import pandas as pd\n",
    "df = pd.read_csv(r'C:\\Python\\log\\log.csv', header=0)\n",
    "df"
   ]
  }
 ],
 "metadata": {
  "kernelspec": {
   "display_name": "base",
   "language": "python",
   "name": "python3"
  },
  "language_info": {
   "codemirror_mode": {
    "name": "ipython",
    "version": 3
   },
   "file_extension": ".py",
   "mimetype": "text/x-python",
   "name": "python",
   "nbconvert_exporter": "python",
   "pygments_lexer": "ipython3",
   "version": "3.11.4"
  }
 },
 "nbformat": 4,
 "nbformat_minor": 2
}
