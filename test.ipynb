{
 "cells": [
  {
   "cell_type": "code",
   "execution_count": 1,
   "metadata": {},
   "outputs": [
    {
     "name": "stdout",
     "output_type": "stream",
     "text": [
      "Return None\n",
      "Return None\n",
      "[b'10245', b'10246', b'10247']\n"
     ]
    }
   ],
   "source": [
    "from _library import MyProject\n",
    "MyProject.MainProject()._get_bank_notification(r'C:\\trieu.pham\\python\\log','info@myvib.vib.com.vn', 'alerts@citibank.com.vn', 'info@vib.com.vn')\n",
    "\n",
    "# a = MyProject.MainProject()._get_bank_email(b'10221','info@vib.com.vn')"
   ]
  },
  {
   "cell_type": "code",
   "execution_count": 2,
   "metadata": {},
   "outputs": [],
   "source": [
    "from _library import MyProject\n",
    "from _library import GoogleMail\n",
    "mail = (\n",
    "    GoogleMail(\n",
    "        email_address='phtrieu1040@gmail.com',\n",
    "        password='kxwi hwjj tbdu qgtg'\n",
    "    )\n",
    "    )\n",
    "id_list = mail.get_email_ids()[-100:]"
   ]
  }
 ],
 "metadata": {
  "kernelspec": {
   "display_name": "base",
   "language": "python",
   "name": "python3"
  },
  "language_info": {
   "codemirror_mode": {
    "name": "ipython",
    "version": 3
   },
   "file_extension": ".py",
   "mimetype": "text/x-python",
   "name": "python",
   "nbconvert_exporter": "python",
   "pygments_lexer": "ipython3",
   "version": "3.11.4"
  }
 },
 "nbformat": 4,
 "nbformat_minor": 2
}
